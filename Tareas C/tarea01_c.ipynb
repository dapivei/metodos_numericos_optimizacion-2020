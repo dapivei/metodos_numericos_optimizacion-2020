{
 "cells": [
  {
   "cell_type": "markdown",
   "metadata": {},
   "source": [
    "## Tarea 1\n",
    "\n",
    "\n",
    "*Elaborado por Daniela Pinto Veizaga*\n",
    "\n",
    "*Fecha de elaboración: 22 de enero de 2020*"
   ]
  },
  {
   "cell_type": "markdown",
   "metadata": {},
   "source": [
    "*Clave Única: 191471*"
   ]
  },
  {
   "cell_type": "markdown",
   "metadata": {},
   "source": [
    "Instrucciones: Terminar el ejercicio de las notas I/1.2 completo (son 4 ejercicios en total, dependiendo si les tocó que fueran pares o nones)."
   ]
  },
  {
   "cell_type": "markdown",
   "metadata": {},
   "source": [
    "**Ejercicio 1:**\n",
    "Determina el rango de enteros de base $10$ que puede representarse en una computadora de $16$ bits utilizando el primer bit para el signo"
   ]
  },
  {
   "cell_type": "code",
   "execution_count": 37,
   "metadata": {},
   "outputs": [
    {
     "name": "stdout",
     "output_type": "stream",
     "text": [
      "El rango de enteros de base 10 que puede representarse en una computadora de  16 bits utilizando el primer bit para el signo es: 131070.000000"
     ]
    }
   ],
   "source": [
    "\n",
    "//%cflags:-lm\n",
    "#include<stdio.h>\n",
    "#include<math.h>\n",
    "int main(){\n",
    "    printf(\"El rango de enteros de base 10 que puede representarse en una computadora de  16 bits utilizando el primer bit para el signo es: %f\",(pow(2,15)+pow(2,14)+pow(2,13)+pow(2,12)+pow(2,11)+pow(2,10)+pow(2,9)+pow(2,8)+pow(2,7)+ pow(2,6)+pow(2,5)+pow(2,4)+pow(2,3)+pow(2,2)+pow(2,1)+pow(2,0))*2);\n",
    "    return 0;\n",
    "}"
   ]
  },
  {
   "cell_type": "markdown",
   "metadata": {},
   "source": [
    "**Ejercicio 2 y 3**: Da más ejemplos de ejecuciones que resulten en **overflow** y **underflow**.\n",
    "\n",
    "\n",
    "El **número de máquina normalizado** más pequeño positivo es: \n",
    "\n",
    "$$2^{-1022}(1+0) \\approx 2.2251 \\times 10^{-308}$$"
   ]
  },
  {
   "cell_type": "markdown",
   "metadata": {},
   "source": [
    "Los numéros que tiene una magnitud menor a $$2^{-1023}(1+2^{-52}) \\approx 10^{-308}$$ resultan en **underflow**."
   ]
  },
  {
   "cell_type": "markdown",
   "metadata": {},
   "source": [
    "Los números mayoores que $$2^{1024}(2+2^{-52}) \\approx 10^{308}$$ resultan en **overflow**."
   ]
  },
  {
   "cell_type": "code",
   "execution_count": 19,
   "metadata": {},
   "outputs": [
    {
     "name": "stdout",
     "output_type": "stream",
     "text": [
      "Numéro más grande positivo: 1.797693e+308\n"
     ]
    }
   ],
   "source": [
    "#include<stdio.h>\n",
    "#include<float.h>\n",
    "int main(){\n",
    "    printf(\"Numéro más grande positivo: %e\\n\", DBL_MAX);\n",
    "    return 0;\n",
    "}\n"
   ]
  },
  {
   "cell_type": "markdown",
   "metadata": {},
   "source": [
    "Números que rebasen este límite superior resultan en un overflow:"
   ]
  },
  {
   "cell_type": "code",
   "execution_count": 27,
   "metadata": {},
   "outputs": [
    {
     "name": "stdout",
     "output_type": "stream",
     "text": [
      "overflow: inf\n"
     ]
    }
   ],
   "source": [
    "//%cflags:-lm\n",
    "#include<stdio.h>\n",
    "#include<float.h>\n",
    "#include<math.h>\n",
    "int main(){\n",
    "    printf(\"overflow: %e\\n\", DBL_MAX + 0.0000000000000001*pow(10,308));\n",
    "    return 0;\n",
    "}"
   ]
  },
  {
   "cell_type": "code",
   "execution_count": 35,
   "metadata": {},
   "outputs": [
    {
     "name": "stdout",
     "output_type": "stream",
     "text": [
      "overflow: inf\n"
     ]
    }
   ],
   "source": [
    "//%cflags:-lm\n",
    "#include<stdio.h>\n",
    "#include<float.h>\n",
    "#include<math.h>\n",
    "int main(){\n",
    "    printf(\"overflow: %e\\n\", DBL_MAX + 0.00001*pow(10,600));\n",
    "    return 0;\n",
    "}"
   ]
  },
  {
   "cell_type": "markdown",
   "metadata": {},
   "source": [
    "El número de máquina normalizado más pequeño positivo es: $$2^{-1022}(1+0) \\approx 2.2251 \\times 10^{-308}.$$"
   ]
  },
  {
   "cell_type": "code",
   "execution_count": 100,
   "metadata": {},
   "outputs": [
    {
     "name": "stdout",
     "output_type": "stream",
     "text": [
      "Numéro normalizado más chico positivo: 2.225074e-308\n"
     ]
    }
   ],
   "source": [
    "\n",
    "#include<stdio.h>\n",
    "#include<float.h>\n",
    "int main(){\n",
    "    printf(\"Numéro normalizado más chico positivo: %e\\n\", DBL_MIN);\n",
    "    return 0;\n",
    "}"
   ]
  },
  {
   "cell_type": "markdown",
   "metadata": {},
   "source": [
    "El número de máquina no normalizado o subnormalizado más chico positivo es del orden de $2^{-1022}(2^{-52})=2^{-1074} \\approx 10^{-324}$.\n"
   ]
  },
  {
   "cell_type": "code",
   "execution_count": 102,
   "metadata": {},
   "outputs": [
    {
     "name": "stdout",
     "output_type": "stream",
     "text": [
      "Numéro más chico positivo: 4.940656e-324\n"
     ]
    }
   ],
   "source": [
    "\n",
    "//%cflags:-lm\n",
    "#include<stdio.h>\n",
    "#include<float.h>\n",
    "#include<math.h>\n",
    "int main(){\n",
    "    printf(\"Numéro más chico positivo: %e\\n\", pow(2,-52)*DBL_MIN);\n",
    "    return 0;\n",
    "}\n"
   ]
  },
  {
   "cell_type": "markdown",
   "metadata": {},
   "source": [
    "Números con magnitud más chica que el valor anterior resultan en un underflow:\n",
    "Ejercicio: da más ejemplos de ejecuciones como la anterior que resulten en underflow.\n",
    "\n"
   ]
  },
  {
   "cell_type": "code",
   "execution_count": 103,
   "metadata": {},
   "outputs": [
    {
     "name": "stdout",
     "output_type": "stream",
     "text": [
      "Underflow: 0.000000e+00\n"
     ]
    }
   ],
   "source": [
    "\n",
    "//%cflags:-lm\n",
    "#include<stdio.h>\n",
    "#include<float.h>\n",
    "#include<math.h>\n",
    "int main(){\n",
    "    printf(\"Underflow: %e\\n\",(1-.5)*pow(2,-52)*DBL_MIN);\n",
    "    return 0;\n",
    "}"
   ]
  },
  {
   "cell_type": "markdown",
   "metadata": {},
   "source": [
    "**Ejercicio 4**:\n",
    "Considérese: $x = \\frac{5}{7} \\approx \\overline{0.714285}$, $y=\\frac{1}{3} = \\overline{.3}$, $u=0.714251$, $v=98765.9$, $w=0.111111 \\times 10^{-4}$.\n",
    "\n",
    "\n",
    "Un SPFN con: $$\\beta=10, k=5$$\n",
    "\n",
    "\n",
    "Entonces llenar la siguiente tabla de acuerdo a las instrucciones:\n",
    "\n",
    "1. En la columna \"Aritmética de máquina con k=8\" se realiza aritmética a $8$ dígitos con las operaciones definidas previamente $\\oplus, \\ominus, \\otimes, \\oslash$ con la regla de corte $fl_c(\\cdot)$.\n",
    "2. En la columna \"Aritmética de máquina con k=5\" se realiza aritmética a $5$ dígitos con las operaciones definidas previamente $\\oplus, \\ominus, \\otimes, \\oslash$ con la regla de corte $fl_c(\\cdot)$.\n",
    "3. Para el cálculo de errores absoluto y relativo tomar como valor real u objetivo el valor a $8$ dígitos."
   ]
  },
  {
   "cell_type": "code",
   "execution_count": 98,
   "metadata": {},
   "outputs": [
    {
     "name": "stdout",
     "output_type": "stream",
     "text": [
      "Operación \t A.M. (k =8) \t A.M (k =5) \tError Absoluto\t Error Relativo\n",
      "x + y\t\t1.0476190e+00\t1.0475e+00\t1.189709e-04\t1.135631e-04\n",
      "x - y\t\t3.8095230e-01\t3.8090e-01\t5.230308e-05\t1.372956e-04\n",
      "x * y\t\t2.3809519e-01\t2.3800e-01\t9.518862e-05\t3.997923e-04\n",
      "x / y\t\t2.1428573e+00\t2.1428e+00\t5.722046e-05\t2.670288e-05\n",
      "x - u\t\t3.4699999e-05\t0.0000e+00\t3.470000e-05\t1.000000e+00\n",
      "(x - u)/w\t3.1230030e+00\t-nan\t\t-nan\t\t-nan\n",
      "(x - u)v\t3.4271765e+00\t0.0000e+00\t3.427176e+00\t1.000000e+00\n",
      "u + v\t\t9.8766609e+04\t9.8767e+04\t0.000000e+00\t0.000000e+00\n"
     ]
    }
   ],
   "source": [
    "//%cflags:-lm\n",
    "#include<stdio.h>\n",
    "#include<math.h>\n",
    "\n",
    "int main(){\n",
    "    \n",
    "    /*Definición de variables*/\n",
    "    double x = 5.0/7.0;\n",
    "    double y = 1.0/3.0;\n",
    "    double u = 0.714251;\n",
    "    double v = 98765.9;\n",
    "    double w = 0.111111e-4;\n",
    "    double x_t, y_t, u_t, v_t, w_t;\n",
    "    double a8, a5, err_a, err_r;\n",
    "\n",
    "\n",
    "    x_t = truncf(x*10000)/10000;\n",
    "    y_t = truncf(y*10000)/10000;\n",
    "    u_t = truncf(u*10000)/10000;\n",
    "    v_t = truncf(v*10000)/10000;\n",
    "    w_t = truncf(w*10000)/10000;\n",
    "\n",
    "    /*header de la tabla*/\n",
    "    printf(\"Operación \\t A.M. (k =8) \\t A.M (k =5) \\tError Absoluto\\t Error Relativo\\n\");\n",
    "\n",
    "    /* operación: 'x + y' */\n",
    "    a8 = x + y;\n",
    "    a8 = truncf(a8*10000000)/10000000;\n",
    "    a5 = x_t + y_t;\n",
    "    a5 = truncf(a5*10000)/10000;\n",
    "    err_a = a8 - a5;\n",
    "    \n",
    "    printf(\"x + y\\t\\t\");\n",
    "    printf(\"%1.7e\\t\", a8);\n",
    "    printf(\"%1.4e\\t\", a5);\n",
    "    printf(\"%e\\t\", err_a);\n",
    "    printf(\"%e\\n\",  err_a/a8);\n",
    "    \n",
    "    /* operación: 'x - y' */\n",
    "    a8 = x - y;\n",
    "    a8 = truncf(a8*10000000)/10000000;\n",
    "    a5 = x_t - y_t;\n",
    "    a5 = truncf(a5*10000)/10000;\n",
    "    err_a = a8 - a5;\n",
    "\n",
    "    printf(\"x - y\\t\\t\");\n",
    "    printf(\"%1.7e\\t\", a8);\n",
    "    printf(\"%1.4e\\t\", a5);\n",
    "    printf(\"%e\\t\", err_a);\n",
    "    printf(\"%e\\n\",  err_a/a8);\n",
    "    \n",
    "\n",
    "    /* operación: 'x * y' */\n",
    "    a8 = x * y;\n",
    "    a8 = truncf(a8*10000000)/10000000;\n",
    "    a5 = x_t * y_t;\n",
    "    a5 = truncf(a5*10000)/10000;\n",
    "    err_a = a8 -a5;\n",
    "\n",
    "    printf(\"x * y\\t\\t\");\n",
    "    printf(\"%1.7e\\t\", a8);\n",
    "    printf(\"%1.4e\\t\", a5);\n",
    "    printf(\"%e\\t\", err_a);\n",
    "    printf(\"%e\\n\",  err_a/a8);\n",
    "\n",
    "    /* operación: 'x / y' */\n",
    "    a8 = x / y;\n",
    "    a8 = truncf(a8*10000000)/10000000;\n",
    "    a5 = x_t / y_t;\n",
    "    a5 = truncf(a5*10000)/10000;\n",
    "    err_a = a8 -a5;\n",
    "\n",
    "    printf(\"x / y\\t\\t\");\n",
    "    printf(\"%1.7e\\t\", a8);\n",
    "    printf(\"%1.4e\\t\", a5);\n",
    "    printf(\"%e\\t\", err_a);\n",
    "    printf(\"%e\\n\",  err_a/a8);\n",
    "    \n",
    "    /* operación: 'x - u' */\n",
    "    a8 = x - u;\n",
    "    a8 = truncf(a8*10000000)/10000000;\n",
    "    a5 = x_t - u_t;\n",
    "    a5 = truncf(a5*10000)/10000;\n",
    "    err_a = a8 - a5;\n",
    "\n",
    "    printf(\"x - u\\t\\t\");\n",
    "    printf(\"%1.7e\\t\", a8);\n",
    "    printf(\"%1.4e\\t\", a5);\n",
    "    printf(\"%e\\t\", err_a);\n",
    "    printf(\"%e\\n\",  err_a/a8);\n",
    "    \n",
    "    /*operación: '(x - u)/w' */\n",
    "    a8 = x - u;\n",
    "    a8 = truncf(a8*10000000)/10000000;\n",
    "    a8 = a8 / w;\n",
    "    a8 = truncf(a8*10000000)/10000000;\n",
    "    a5 = x_t - u_t;\n",
    "    a5 = truncf(a5*10000)/10000;\n",
    "    a5 = a5 / w_t;\n",
    "    a5 = truncf(a5*10000)/10000;\n",
    "    err_a = a8 - a5;\n",
    "\n",
    "    printf(\"(x - u)/w\\t\");\n",
    "    printf(\"%1.7e\\t\", a8);\n",
    "    printf(\"%1.4e\\t\\t\", a5);\n",
    "    printf(\"%e\\t\", err_a);\n",
    "    printf(\"\\t%e\\n\",  err_a/a8);\n",
    "\n",
    "    /*operación: '(x - u)v' */\n",
    "    a8 = x - u;\n",
    "    a8 = truncf(a8*10000000)/10000000;\n",
    "    a8 = a8 * v;\n",
    "    a8 = truncf(a8*10000000)/10000000;\n",
    "    a5 = x_t - u_t;\n",
    "    a5 = truncf(a5*10000)/10000;\n",
    "    a5 = a5 * v_t;\n",
    "    a5 = truncf(a5*10000)/10000;\n",
    "    err_a = a8 - a5;\n",
    "\n",
    "    printf(\"(x - u)v\\t\");\n",
    "    printf(\"%1.7e\\t\", a8);\n",
    "    printf(\"%1.4e\\t\", a5);\n",
    "    printf(\"%e\\t\", err_a);\n",
    "    printf(\"%e\\n\",  err_a/a8);\n",
    "    \n",
    "    \n",
    "    /* operación: 'u + v' */\n",
    "    a8 = u + v;\n",
    "    a8 = truncf(a8*10000000)/10000000;\n",
    "    a5 = u_t + v_t;\n",
    "    a5 = truncf(a5*10000)/10000;\n",
    "    err_a = a8 -a5;\n",
    "\n",
    "    printf(\"u + v\\t\\t\");\n",
    "    printf(\"%1.7e\\t\", a8);\n",
    "    printf(\"%1.4e\\t\", a5);\n",
    "    printf(\"%e\\t\", err_a);\n",
    "    printf(\"%e\\n\",  err_a/a8);\n",
    "}"
   ]
  },
  {
   "cell_type": "markdown",
   "metadata": {},
   "source": [
    "**Ejercicio 5:**\n",
    "Utiliza la notación posicional para representar al número: $86409$ y $(1001.1)_2$ en base $10$\n",
    "\n",
    "\n"
   ]
  },
  {
   "cell_type": "markdown",
   "metadata": {},
   "source": [
    "$$86409=80000+6000+400+9$$"
   ]
  },
  {
   "cell_type": "markdown",
   "metadata": {},
   "source": [
    "$$(1001.1)_{2} = (1*2^{3}) + (0*2^{2}) + (0*2^{1}) + (1* 2^{0}) + (1*2^{-1}) = (9.5)\n",
    "_{10}$$"
   ]
  },
  {
   "cell_type": "markdown",
   "metadata": {},
   "source": [
    "¿Cuáles de los siguientes números son números de máquina en un SPFN con $\\beta=2$?"
   ]
  },
  {
   "cell_type": "markdown",
   "metadata": {},
   "source": [
    "Los números reales que tienen una representación exacta en el $\\mathcal{F}\\mathcal{l}$ se les conoce como números de máquina."
   ]
  },
  {
   "cell_type": "markdown",
   "metadata": {},
   "source": [
    "\n",
    "\n",
    "\n",
    "**a**. $(2.125)_{10}$.\n",
    "\n",
    "\n"
   ]
  },
  {
   "cell_type": "markdown",
   "metadata": {},
   "source": [
    "Parte entera:\n",
    "\n",
    "$$2/2=1;\n",
    "Residuo: 0$$\n",
    "\n",
    "Parte decimal:\n",
    "\n",
    "$$0.125*2= 0.250$$\n",
    "$$0.25*2=0.5$$\n",
    "$$0.5*2=1$$\n",
    "\n",
    "Entonces: $$2.125= (10.001)_{2}$$\n"
   ]
  },
  {
   "cell_type": "markdown",
   "metadata": {},
   "source": [
    "**b**. $(3.1)_{10}$."
   ]
  },
  {
   "cell_type": "markdown",
   "metadata": {},
   "source": [
    "Parte entera:\n",
    "\n",
    "$$3/2=1; \n",
    "Residuo=1$$\n",
    "\n",
    "    \n",
    "Parte decimal:\n",
    "\n",
    "$$0.1*2=0.2$$\n",
    "$$0.2*2=0.4$$\n",
    "$$0.4*2=0.8$$\n",
    "$$0.8*2=1.6$$\n",
    "$$0.6*2=1.2$$\n",
    "$$0.2*2=0.4$$\n",
    "$$0.4*2=0.8$$\n",
    "$$0.8*2=1.6$$\n",
    "\n",
    ".\n",
    ".\n",
    ".\n",
    "\n",
    "Entonces: $$(3.1)_{10} \\approx 11.00011001$$\n",
    "\n",
    "Por lo tanto, el número del inciso a es un **número de máquina**."
   ]
  },
  {
   "cell_type": "markdown",
   "metadata": {},
   "source": [
    "**Ejercicio 6**: Considérese un SPFN con $\\beta=2, k=3$. En este sistema se tienen $7$ bits para almacenar números. El primer bit se utiliza para el signo del número, el segundo bit se utiliza para el signo del exponente, los dos siguientes bits para construir al exponente y el último bit para construir a la mantisa. Entonces el número positivo normalizado más pequeño que es posible representar en este SPFN es:\n",
    "$$(0111100)_2=(.5\\times2^{-3})_{10}=.0625.$$\n",
    "a. Escribe los siguientes números más grandes a este número que forman al SPFN hasta el valor más grande positivo que es posible representar en este SPFN.\n",
    "\n",
    "\n",
    "b. Calcula las distancias entre los números con mismo valor de exponente.\n",
    "\n",
    "\n",
    "c. Verifica que el error relativo para $x=0.156249$ utilizando la regla de corte es menor o igual a $\\epsilon_{maq}=.25$ y el error relativo para $x=0.14$ utilizando la regla de redondeo es menor o igual a $\\epsilon_{maq}=0.125$."
   ]
  },
  {
   "cell_type": "code",
   "execution_count": null,
   "metadata": {},
   "outputs": [],
   "source": []
  },
  {
   "cell_type": "markdown",
   "metadata": {},
   "source": [
    "`Nota: todos los ejercicios fueron ejecutados empleando el presente jupyterlab con un kernell de C`\n",
    "\n"
   ]
  }
 ],
 "metadata": {
  "kernelspec": {
   "display_name": "C",
   "language": "c",
   "name": "c"
  },
  "language_info": {
   "file_extension": ".c",
   "mimetype": "text/plain",
   "name": "c"
  }
 },
 "nbformat": 4,
 "nbformat_minor": 4
}
